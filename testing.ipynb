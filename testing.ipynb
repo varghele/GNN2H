{
 "cells": [
  {
   "cell_type": "code",
   "execution_count": 1,
   "metadata": {},
   "outputs": [],
   "source": [
    "import torch\n",
    "from torch_geometric.data import Data, Dataset, Batch\n",
    "from torch_geometric.data import DataLoader\n",
    "from torch_geometric.datasets import TUDataset\n",
    "\n",
    "\n",
    "import numpy as np\n",
    "import pandas as pd\n",
    "import seaborn as sns\n",
    "import matplotlib.pyplot as plt"
   ]
  },
  {
   "cell_type": "code",
   "execution_count": 94,
   "metadata": {},
   "outputs": [
    {
     "data": {
      "text/html": [
       "<div>\n",
       "<style scoped>\n",
       "    .dataframe tbody tr th:only-of-type {\n",
       "        vertical-align: middle;\n",
       "    }\n",
       "\n",
       "    .dataframe tbody tr th {\n",
       "        vertical-align: top;\n",
       "    }\n",
       "\n",
       "    .dataframe thead th {\n",
       "        text-align: right;\n",
       "    }\n",
       "</style>\n",
       "<table border=\"1\" class=\"dataframe\">\n",
       "  <thead>\n",
       "    <tr style=\"text-align: right;\">\n",
       "      <th></th>\n",
       "      <th>Papertag</th>\n",
       "      <th>Molecule1</th>\n",
       "      <th>Molecule2</th>\n",
       "      <th>Membrane</th>\n",
       "      <th>molp1</th>\n",
       "      <th>molp2</th>\n",
       "      <th>molpm</th>\n",
       "      <th>Temperature</th>\n",
       "      <th>WTp</th>\n",
       "      <th>2</th>\n",
       "      <th>...</th>\n",
       "      <th>7</th>\n",
       "      <th>8</th>\n",
       "      <th>9</th>\n",
       "      <th>10</th>\n",
       "      <th>11</th>\n",
       "      <th>12</th>\n",
       "      <th>13</th>\n",
       "      <th>14</th>\n",
       "      <th>15</th>\n",
       "      <th>16</th>\n",
       "    </tr>\n",
       "  </thead>\n",
       "  <tbody>\n",
       "    <tr>\n",
       "      <th>0</th>\n",
       "      <td>1MIM298POPCG</td>\n",
       "      <td>0</td>\n",
       "      <td>0</td>\n",
       "      <td>POPC</td>\n",
       "      <td>0.0</td>\n",
       "      <td>0</td>\n",
       "      <td>100</td>\n",
       "      <td>298</td>\n",
       "      <td>50.0</td>\n",
       "      <td>0.219000</td>\n",
       "      <td>...</td>\n",
       "      <td>0.19600</td>\n",
       "      <td>0.189000</td>\n",
       "      <td>0.182000</td>\n",
       "      <td>0.172000</td>\n",
       "      <td>0.155000</td>\n",
       "      <td>0.141000</td>\n",
       "      <td>0.122000</td>\n",
       "      <td>0.103000</td>\n",
       "      <td>0.077000</td>\n",
       "      <td>0.02300</td>\n",
       "    </tr>\n",
       "    <tr>\n",
       "      <th>1</th>\n",
       "      <td>1MIM298POPCG</td>\n",
       "      <td>MIM</td>\n",
       "      <td>0</td>\n",
       "      <td>POPC</td>\n",
       "      <td>76.8</td>\n",
       "      <td>0</td>\n",
       "      <td>100</td>\n",
       "      <td>298</td>\n",
       "      <td>50.0</td>\n",
       "      <td>0.191000</td>\n",
       "      <td>...</td>\n",
       "      <td>0.16100</td>\n",
       "      <td>0.147000</td>\n",
       "      <td>0.135000</td>\n",
       "      <td>0.117000</td>\n",
       "      <td>0.106000</td>\n",
       "      <td>0.092000</td>\n",
       "      <td>0.081000</td>\n",
       "      <td>0.068000</td>\n",
       "      <td>0.055000</td>\n",
       "      <td>0.01700</td>\n",
       "    </tr>\n",
       "    <tr>\n",
       "      <th>2</th>\n",
       "      <td>1POPC300POPC</td>\n",
       "      <td>0</td>\n",
       "      <td>0</td>\n",
       "      <td>POPC</td>\n",
       "      <td>0.0</td>\n",
       "      <td>0</td>\n",
       "      <td>100</td>\n",
       "      <td>300</td>\n",
       "      <td>NaN</td>\n",
       "      <td>0.218805</td>\n",
       "      <td>...</td>\n",
       "      <td>0.19785</td>\n",
       "      <td>0.187499</td>\n",
       "      <td>0.180161</td>\n",
       "      <td>0.170479</td>\n",
       "      <td>0.151087</td>\n",
       "      <td>0.137052</td>\n",
       "      <td>0.116656</td>\n",
       "      <td>0.098604</td>\n",
       "      <td>0.075194</td>\n",
       "      <td>0.02366</td>\n",
       "    </tr>\n",
       "    <tr>\n",
       "      <th>3</th>\n",
       "      <td>2ASS303POPC</td>\n",
       "      <td>ASS</td>\n",
       "      <td>0</td>\n",
       "      <td>POPC</td>\n",
       "      <td>20.0</td>\n",
       "      <td>0</td>\n",
       "      <td>80</td>\n",
       "      <td>303</td>\n",
       "      <td>50.0</td>\n",
       "      <td>0.214000</td>\n",
       "      <td>...</td>\n",
       "      <td>0.19300</td>\n",
       "      <td>0.186000</td>\n",
       "      <td>0.168000</td>\n",
       "      <td>0.153000</td>\n",
       "      <td>0.135000</td>\n",
       "      <td>0.123000</td>\n",
       "      <td>0.105000</td>\n",
       "      <td>0.089000</td>\n",
       "      <td>0.068000</td>\n",
       "      <td>0.01600</td>\n",
       "    </tr>\n",
       "    <tr>\n",
       "      <th>4</th>\n",
       "      <td>2ASS303POPC</td>\n",
       "      <td>ASS</td>\n",
       "      <td>CHL</td>\n",
       "      <td>POPC</td>\n",
       "      <td>20.0</td>\n",
       "      <td>20</td>\n",
       "      <td>80</td>\n",
       "      <td>303</td>\n",
       "      <td>50.0</td>\n",
       "      <td>0.282000</td>\n",
       "      <td>...</td>\n",
       "      <td>0.24700</td>\n",
       "      <td>0.238000</td>\n",
       "      <td>0.223000</td>\n",
       "      <td>0.205000</td>\n",
       "      <td>0.188000</td>\n",
       "      <td>0.166000</td>\n",
       "      <td>0.146000</td>\n",
       "      <td>0.117000</td>\n",
       "      <td>0.079000</td>\n",
       "      <td>0.01300</td>\n",
       "    </tr>\n",
       "    <tr>\n",
       "      <th>...</th>\n",
       "      <td>...</td>\n",
       "      <td>...</td>\n",
       "      <td>...</td>\n",
       "      <td>...</td>\n",
       "      <td>...</td>\n",
       "      <td>...</td>\n",
       "      <td>...</td>\n",
       "      <td>...</td>\n",
       "      <td>...</td>\n",
       "      <td>...</td>\n",
       "      <td>...</td>\n",
       "      <td>...</td>\n",
       "      <td>...</td>\n",
       "      <td>...</td>\n",
       "      <td>...</td>\n",
       "      <td>...</td>\n",
       "      <td>...</td>\n",
       "      <td>...</td>\n",
       "      <td>...</td>\n",
       "      <td>...</td>\n",
       "      <td>...</td>\n",
       "    </tr>\n",
       "    <tr>\n",
       "      <th>115</th>\n",
       "      <td>6TER303POPC</td>\n",
       "      <td>FUA</td>\n",
       "      <td>0</td>\n",
       "      <td>POPC</td>\n",
       "      <td>25.0</td>\n",
       "      <td>0</td>\n",
       "      <td>75</td>\n",
       "      <td>303</td>\n",
       "      <td>50.0</td>\n",
       "      <td>0.225000</td>\n",
       "      <td>...</td>\n",
       "      <td>0.19700</td>\n",
       "      <td>0.187000</td>\n",
       "      <td>0.176000</td>\n",
       "      <td>0.160000</td>\n",
       "      <td>0.143000</td>\n",
       "      <td>0.130000</td>\n",
       "      <td>0.112000</td>\n",
       "      <td>0.095000</td>\n",
       "      <td>0.071000</td>\n",
       "      <td>0.02000</td>\n",
       "    </tr>\n",
       "    <tr>\n",
       "      <th>116</th>\n",
       "      <td>6TER303POPC</td>\n",
       "      <td>IBO</td>\n",
       "      <td>0</td>\n",
       "      <td>POPC</td>\n",
       "      <td>25.0</td>\n",
       "      <td>0</td>\n",
       "      <td>75</td>\n",
       "      <td>303</td>\n",
       "      <td>50.0</td>\n",
       "      <td>0.213000</td>\n",
       "      <td>...</td>\n",
       "      <td>0.18600</td>\n",
       "      <td>0.179000</td>\n",
       "      <td>0.170000</td>\n",
       "      <td>0.156000</td>\n",
       "      <td>0.141000</td>\n",
       "      <td>0.127000</td>\n",
       "      <td>0.110000</td>\n",
       "      <td>0.094000</td>\n",
       "      <td>0.071000</td>\n",
       "      <td>0.02500</td>\n",
       "    </tr>\n",
       "    <tr>\n",
       "      <th>117</th>\n",
       "      <td>6TER303POPC</td>\n",
       "      <td>MFA</td>\n",
       "      <td>0</td>\n",
       "      <td>POPC</td>\n",
       "      <td>25.0</td>\n",
       "      <td>0</td>\n",
       "      <td>75</td>\n",
       "      <td>303</td>\n",
       "      <td>50.0</td>\n",
       "      <td>0.214000</td>\n",
       "      <td>...</td>\n",
       "      <td>0.19000</td>\n",
       "      <td>0.182000</td>\n",
       "      <td>0.174000</td>\n",
       "      <td>0.160000</td>\n",
       "      <td>0.145000</td>\n",
       "      <td>0.133000</td>\n",
       "      <td>0.115000</td>\n",
       "      <td>0.097000</td>\n",
       "      <td>0.073000</td>\n",
       "      <td>0.02100</td>\n",
       "    </tr>\n",
       "    <tr>\n",
       "      <th>118</th>\n",
       "      <td>6TER303POPC</td>\n",
       "      <td>SLF</td>\n",
       "      <td>0</td>\n",
       "      <td>POPC</td>\n",
       "      <td>25.0</td>\n",
       "      <td>0</td>\n",
       "      <td>75</td>\n",
       "      <td>303</td>\n",
       "      <td>50.0</td>\n",
       "      <td>0.188000</td>\n",
       "      <td>...</td>\n",
       "      <td>0.15600</td>\n",
       "      <td>0.145000</td>\n",
       "      <td>0.131000</td>\n",
       "      <td>0.120000</td>\n",
       "      <td>0.106000</td>\n",
       "      <td>0.096000</td>\n",
       "      <td>0.084000</td>\n",
       "      <td>0.072000</td>\n",
       "      <td>0.056000</td>\n",
       "      <td>0.01600</td>\n",
       "    </tr>\n",
       "    <tr>\n",
       "      <th>119</th>\n",
       "      <td>6TER303POPC</td>\n",
       "      <td>SUL</td>\n",
       "      <td>0</td>\n",
       "      <td>POPC</td>\n",
       "      <td>25.0</td>\n",
       "      <td>0</td>\n",
       "      <td>75</td>\n",
       "      <td>303</td>\n",
       "      <td>50.0</td>\n",
       "      <td>0.211000</td>\n",
       "      <td>...</td>\n",
       "      <td>0.18500</td>\n",
       "      <td>0.177000</td>\n",
       "      <td>0.167000</td>\n",
       "      <td>0.150000</td>\n",
       "      <td>0.138000</td>\n",
       "      <td>0.123000</td>\n",
       "      <td>0.107000</td>\n",
       "      <td>0.092000</td>\n",
       "      <td>0.071000</td>\n",
       "      <td>0.02600</td>\n",
       "    </tr>\n",
       "  </tbody>\n",
       "</table>\n",
       "<p>120 rows × 24 columns</p>\n",
       "</div>"
      ],
      "text/plain": [
       "         Papertag Molecule1 Molecule2 Membrane  molp1  molp2  molpm  \\\n",
       "0    1MIM298POPCG         0         0     POPC    0.0      0    100   \n",
       "1    1MIM298POPCG       MIM         0     POPC   76.8      0    100   \n",
       "2    1POPC300POPC         0         0     POPC    0.0      0    100   \n",
       "3     2ASS303POPC       ASS         0     POPC   20.0      0     80   \n",
       "4     2ASS303POPC       ASS       CHL     POPC   20.0     20     80   \n",
       "..            ...       ...       ...      ...    ...    ...    ...   \n",
       "115   6TER303POPC       FUA         0     POPC   25.0      0     75   \n",
       "116   6TER303POPC       IBO         0     POPC   25.0      0     75   \n",
       "117   6TER303POPC       MFA         0     POPC   25.0      0     75   \n",
       "118   6TER303POPC       SLF         0     POPC   25.0      0     75   \n",
       "119   6TER303POPC       SUL         0     POPC   25.0      0     75   \n",
       "\n",
       "     Temperature   WTp         2  ...        7         8         9        10  \\\n",
       "0            298  50.0  0.219000  ...  0.19600  0.189000  0.182000  0.172000   \n",
       "1            298  50.0  0.191000  ...  0.16100  0.147000  0.135000  0.117000   \n",
       "2            300   NaN  0.218805  ...  0.19785  0.187499  0.180161  0.170479   \n",
       "3            303  50.0  0.214000  ...  0.19300  0.186000  0.168000  0.153000   \n",
       "4            303  50.0  0.282000  ...  0.24700  0.238000  0.223000  0.205000   \n",
       "..           ...   ...       ...  ...      ...       ...       ...       ...   \n",
       "115          303  50.0  0.225000  ...  0.19700  0.187000  0.176000  0.160000   \n",
       "116          303  50.0  0.213000  ...  0.18600  0.179000  0.170000  0.156000   \n",
       "117          303  50.0  0.214000  ...  0.19000  0.182000  0.174000  0.160000   \n",
       "118          303  50.0  0.188000  ...  0.15600  0.145000  0.131000  0.120000   \n",
       "119          303  50.0  0.211000  ...  0.18500  0.177000  0.167000  0.150000   \n",
       "\n",
       "           11        12        13        14        15       16  \n",
       "0    0.155000  0.141000  0.122000  0.103000  0.077000  0.02300  \n",
       "1    0.106000  0.092000  0.081000  0.068000  0.055000  0.01700  \n",
       "2    0.151087  0.137052  0.116656  0.098604  0.075194  0.02366  \n",
       "3    0.135000  0.123000  0.105000  0.089000  0.068000  0.01600  \n",
       "4    0.188000  0.166000  0.146000  0.117000  0.079000  0.01300  \n",
       "..        ...       ...       ...       ...       ...      ...  \n",
       "115  0.143000  0.130000  0.112000  0.095000  0.071000  0.02000  \n",
       "116  0.141000  0.127000  0.110000  0.094000  0.071000  0.02500  \n",
       "117  0.145000  0.133000  0.115000  0.097000  0.073000  0.02100  \n",
       "118  0.106000  0.096000  0.084000  0.072000  0.056000  0.01600  \n",
       "119  0.138000  0.123000  0.107000  0.092000  0.071000  0.02600  \n",
       "\n",
       "[120 rows x 24 columns]"
      ]
     },
     "execution_count": 94,
     "metadata": {},
     "output_type": "execute_result"
    }
   ],
   "source": [
    "DB_order=pd.read_csv(\"data/DB_order_parameters_POPC.csv\",sep=\",\",header=0)\n",
    "DB_order"
   ]
  },
  {
   "cell_type": "code",
   "execution_count": 95,
   "metadata": {},
   "outputs": [
    {
     "data": {
      "text/html": [
       "<div>\n",
       "<style scoped>\n",
       "    .dataframe tbody tr th:only-of-type {\n",
       "        vertical-align: middle;\n",
       "    }\n",
       "\n",
       "    .dataframe tbody tr th {\n",
       "        vertical-align: top;\n",
       "    }\n",
       "\n",
       "    .dataframe thead th {\n",
       "        text-align: right;\n",
       "    }\n",
       "</style>\n",
       "<table border=\"1\" class=\"dataframe\">\n",
       "  <thead>\n",
       "    <tr style=\"text-align: right;\">\n",
       "      <th></th>\n",
       "      <th>Papertag</th>\n",
       "      <th>Molecule1</th>\n",
       "      <th>Molecule2</th>\n",
       "      <th>Membrane</th>\n",
       "      <th>molp1</th>\n",
       "      <th>molp2</th>\n",
       "      <th>molpm</th>\n",
       "      <th>Temperature</th>\n",
       "      <th>WTp</th>\n",
       "      <th>2</th>\n",
       "      <th>...</th>\n",
       "      <th>7</th>\n",
       "      <th>8</th>\n",
       "      <th>9</th>\n",
       "      <th>10</th>\n",
       "      <th>11</th>\n",
       "      <th>12</th>\n",
       "      <th>13</th>\n",
       "      <th>14</th>\n",
       "      <th>15</th>\n",
       "      <th>16</th>\n",
       "    </tr>\n",
       "  </thead>\n",
       "  <tbody>\n",
       "    <tr>\n",
       "      <th>0</th>\n",
       "      <td>1MIM298POPCG</td>\n",
       "      <td>0</td>\n",
       "      <td>0</td>\n",
       "      <td>POPC</td>\n",
       "      <td>0.0</td>\n",
       "      <td>0</td>\n",
       "      <td>100</td>\n",
       "      <td>298</td>\n",
       "      <td>50.0</td>\n",
       "      <td>0.219000</td>\n",
       "      <td>...</td>\n",
       "      <td>0.19600</td>\n",
       "      <td>0.189000</td>\n",
       "      <td>0.182000</td>\n",
       "      <td>0.172000</td>\n",
       "      <td>0.155000</td>\n",
       "      <td>0.141000</td>\n",
       "      <td>0.122000</td>\n",
       "      <td>0.103000</td>\n",
       "      <td>0.077000</td>\n",
       "      <td>0.02300</td>\n",
       "    </tr>\n",
       "    <tr>\n",
       "      <th>1</th>\n",
       "      <td>1MIM298POPCG</td>\n",
       "      <td>MIM</td>\n",
       "      <td>0</td>\n",
       "      <td>POPC</td>\n",
       "      <td>76.8</td>\n",
       "      <td>0</td>\n",
       "      <td>100</td>\n",
       "      <td>298</td>\n",
       "      <td>50.0</td>\n",
       "      <td>0.191000</td>\n",
       "      <td>...</td>\n",
       "      <td>0.16100</td>\n",
       "      <td>0.147000</td>\n",
       "      <td>0.135000</td>\n",
       "      <td>0.117000</td>\n",
       "      <td>0.106000</td>\n",
       "      <td>0.092000</td>\n",
       "      <td>0.081000</td>\n",
       "      <td>0.068000</td>\n",
       "      <td>0.055000</td>\n",
       "      <td>0.01700</td>\n",
       "    </tr>\n",
       "    <tr>\n",
       "      <th>2</th>\n",
       "      <td>1POPC300POPC</td>\n",
       "      <td>0</td>\n",
       "      <td>0</td>\n",
       "      <td>POPC</td>\n",
       "      <td>0.0</td>\n",
       "      <td>0</td>\n",
       "      <td>100</td>\n",
       "      <td>300</td>\n",
       "      <td>NaN</td>\n",
       "      <td>0.218805</td>\n",
       "      <td>...</td>\n",
       "      <td>0.19785</td>\n",
       "      <td>0.187499</td>\n",
       "      <td>0.180161</td>\n",
       "      <td>0.170479</td>\n",
       "      <td>0.151087</td>\n",
       "      <td>0.137052</td>\n",
       "      <td>0.116656</td>\n",
       "      <td>0.098604</td>\n",
       "      <td>0.075194</td>\n",
       "      <td>0.02366</td>\n",
       "    </tr>\n",
       "    <tr>\n",
       "      <th>3</th>\n",
       "      <td>2ASS303POPC</td>\n",
       "      <td>ASS</td>\n",
       "      <td>0</td>\n",
       "      <td>POPC</td>\n",
       "      <td>20.0</td>\n",
       "      <td>0</td>\n",
       "      <td>80</td>\n",
       "      <td>303</td>\n",
       "      <td>50.0</td>\n",
       "      <td>0.214000</td>\n",
       "      <td>...</td>\n",
       "      <td>0.19300</td>\n",
       "      <td>0.186000</td>\n",
       "      <td>0.168000</td>\n",
       "      <td>0.153000</td>\n",
       "      <td>0.135000</td>\n",
       "      <td>0.123000</td>\n",
       "      <td>0.105000</td>\n",
       "      <td>0.089000</td>\n",
       "      <td>0.068000</td>\n",
       "      <td>0.01600</td>\n",
       "    </tr>\n",
       "    <tr>\n",
       "      <th>4</th>\n",
       "      <td>2ASS303POPC</td>\n",
       "      <td>ASS</td>\n",
       "      <td>CHL</td>\n",
       "      <td>POPC</td>\n",
       "      <td>20.0</td>\n",
       "      <td>20</td>\n",
       "      <td>80</td>\n",
       "      <td>303</td>\n",
       "      <td>50.0</td>\n",
       "      <td>0.282000</td>\n",
       "      <td>...</td>\n",
       "      <td>0.24700</td>\n",
       "      <td>0.238000</td>\n",
       "      <td>0.223000</td>\n",
       "      <td>0.205000</td>\n",
       "      <td>0.188000</td>\n",
       "      <td>0.166000</td>\n",
       "      <td>0.146000</td>\n",
       "      <td>0.117000</td>\n",
       "      <td>0.079000</td>\n",
       "      <td>0.01300</td>\n",
       "    </tr>\n",
       "  </tbody>\n",
       "</table>\n",
       "<p>5 rows × 24 columns</p>\n",
       "</div>"
      ],
      "text/plain": [
       "       Papertag Molecule1 Molecule2 Membrane  molp1  molp2  molpm  \\\n",
       "0  1MIM298POPCG         0         0     POPC    0.0      0    100   \n",
       "1  1MIM298POPCG       MIM         0     POPC   76.8      0    100   \n",
       "2  1POPC300POPC         0         0     POPC    0.0      0    100   \n",
       "3   2ASS303POPC       ASS         0     POPC   20.0      0     80   \n",
       "4   2ASS303POPC       ASS       CHL     POPC   20.0     20     80   \n",
       "\n",
       "   Temperature   WTp         2  ...        7         8         9        10  \\\n",
       "0          298  50.0  0.219000  ...  0.19600  0.189000  0.182000  0.172000   \n",
       "1          298  50.0  0.191000  ...  0.16100  0.147000  0.135000  0.117000   \n",
       "2          300   NaN  0.218805  ...  0.19785  0.187499  0.180161  0.170479   \n",
       "3          303  50.0  0.214000  ...  0.19300  0.186000  0.168000  0.153000   \n",
       "4          303  50.0  0.282000  ...  0.24700  0.238000  0.223000  0.205000   \n",
       "\n",
       "         11        12        13        14        15       16  \n",
       "0  0.155000  0.141000  0.122000  0.103000  0.077000  0.02300  \n",
       "1  0.106000  0.092000  0.081000  0.068000  0.055000  0.01700  \n",
       "2  0.151087  0.137052  0.116656  0.098604  0.075194  0.02366  \n",
       "3  0.135000  0.123000  0.105000  0.089000  0.068000  0.01600  \n",
       "4  0.188000  0.166000  0.146000  0.117000  0.079000  0.01300  \n",
       "\n",
       "[5 rows x 24 columns]"
      ]
     },
     "execution_count": 95,
     "metadata": {},
     "output_type": "execute_result"
    }
   ],
   "source": [
    "DB_order[:5]"
   ]
  },
  {
   "cell_type": "code",
   "execution_count": 61,
   "metadata": {},
   "outputs": [
    {
     "data": {
      "text/plain": [
       "tensor([  0.,   0., 100.], dtype=torch.float64)"
      ]
     },
     "execution_count": 61,
     "metadata": {},
     "output_type": "execute_result"
    }
   ],
   "source": [
    "torch.tensor(DB_order[[\"molp1\",\"molp2\",\"molpm\"]].iloc[0])"
   ]
  },
  {
   "cell_type": "code",
   "execution_count": 46,
   "metadata": {},
   "outputs": [
    {
     "data": {
      "text/plain": [
       "tensor([0.2190, 0.2130, 0.2090, 0.2060, 0.2020, 0.1960, 0.1890, 0.1820, 0.1720,\n",
       "        0.1550, 0.1410, 0.1220, 0.1030, 0.0770, 0.0230], dtype=torch.float64)"
      ]
     },
     "execution_count": 46,
     "metadata": {},
     "output_type": "execute_result"
    }
   ],
   "source": [
    "torch.tensor(DB_order[[str(i) for i in range(2,17)]].iloc[0])"
   ]
  },
  {
   "cell_type": "code",
   "execution_count": 54,
   "metadata": {},
   "outputs": [
    {
     "data": {
      "text/plain": [
       "tensor([[1.5000, 1.5000, 1.5000, 1.5000, 1.5000, 1.5000],\n",
       "        [3.0000, 3.0000, 3.0000, 3.0000, 3.0000, 3.0000]])"
      ]
     },
     "execution_count": 54,
     "metadata": {},
     "output_type": "execute_result"
    }
   ],
   "source": [
    "torch.stack((torch.full((6,),1.5),torch.full((6,),3)),dim=0)"
   ]
  },
  {
   "cell_type": "code",
   "execution_count": 58,
   "metadata": {},
   "outputs": [
    {
     "data": {
      "text/plain": [
       "tensor([2, 2, 2, 2, 2, 2, 1])"
      ]
     },
     "execution_count": 58,
     "metadata": {},
     "output_type": "execute_result"
    }
   ],
   "source": [
    "torch.cat((torch.full((6,),2),torch.tensor([1])),dim=0)"
   ]
  },
  {
   "cell_type": "code",
   "execution_count": 34,
   "metadata": {},
   "outputs": [],
   "source": [
    "class PairData(Data):\n",
    "    def __init__(self, edge_attr_p1, edge_index_p1, x_p1, edge_attr_p2, edge_index_p2, x_p2,y):\n",
    "        super(PairData, self).__init__()\n",
    "        self.edge_attr_p1=edge_attr_p1\n",
    "        self.edge_index_p1 = edge_index_p1\n",
    "        self.x_p1 = x_p1\n",
    "        self.edge_attr_p2=edge_attr_p2\n",
    "        self.edge_index_p2 = edge_index_p2\n",
    "        self.x_p2 = x_p2\n",
    "        self.y=y\n",
    "    def __inc__(self, key, value):\n",
    "        if key == 'edge_index_p1':\n",
    "            return self.x_p1.size(0)\n",
    "        if key == 'edge_index_p2':\n",
    "            return self.x_p2.size(0)\n",
    "        else:\n",
    "            return super(PairData, self).__inc__(key, value)\n",
    "        "
   ]
  },
  {
   "cell_type": "code",
   "execution_count": 35,
   "metadata": {},
   "outputs": [
    {
     "name": "stdout",
     "output_type": "stream",
     "text": [
      "['y', 'edge_attr_p1', 'edge_index_p1', 'x_p1', 'edge_attr_p2', 'edge_index_p2', 'x_p2']\n"
     ]
    }
   ],
   "source": [
    "edge_index_p1 = torch.tensor([\n",
    "        [0, 0, 0, 0],\n",
    "        [1, 2, 3, 4],\n",
    "    ])\n",
    "x_p1 = torch.randn(5, 8)  # 5 nodes.\n",
    "edge_attr_p1 = torch.randn(4, 2)\n",
    "\n",
    "edge_index_p2 = torch.tensor([\n",
    "    [0, 0, 0],\n",
    "    [1, 2, 3],\n",
    "])\n",
    "x_p2 = torch.randn(3, 8)  # 3 nodes.\n",
    "edge_attr_p2 = torch.randn(3, 2)\n",
    "\n",
    "y=torch.arange(1,15)\n",
    "\n",
    "data = PairData(edge_attr_p1, edge_index_p1, x_p1, edge_attr_p2, edge_index_p2, x_p2,y)\n",
    "print(data.keys)\n",
    "data_list = [data, data]\n",
    "loader = DataLoader(data_list, batch_size=2, follow_batch=['x_p1', 'x_p2'])\n",
    "batch_data = next(iter(loader))"
   ]
  },
  {
   "cell_type": "code",
   "execution_count": 40,
   "metadata": {},
   "outputs": [
    {
     "name": "stdout",
     "output_type": "stream",
     "text": [
      "Batch(edge_attr_p1=[8, 2], edge_attr_p2=[6, 2], edge_index_p1=[2, 8], edge_index_p2=[2, 6], x_p1=[10, 8], x_p1_batch=[10], x_p2=[6, 8], x_p2_batch=[6], y=[28])\n"
     ]
    }
   ],
   "source": [
    "print(batch_data)"
   ]
  },
  {
   "cell_type": "code",
   "execution_count": 37,
   "metadata": {},
   "outputs": [
    {
     "name": "stdout",
     "output_type": "stream",
     "text": [
      "tensor([ 1,  2,  3,  4,  5,  6,  7,  8,  9, 10, 11, 12, 13, 14])\n"
     ]
    }
   ],
   "source": [
    "print(y)"
   ]
  },
  {
   "cell_type": "code",
   "execution_count": 38,
   "metadata": {},
   "outputs": [
    {
     "data": {
      "text/plain": [
       "tensor([ 1,  2,  3,  4,  5,  6,  7,  8,  9, 10, 11, 12, 13, 14])"
      ]
     },
     "execution_count": 38,
     "metadata": {},
     "output_type": "execute_result"
    }
   ],
   "source": [
    "torch.arange(1,15)"
   ]
  },
  {
   "cell_type": "code",
   "execution_count": null,
   "metadata": {},
   "outputs": [],
   "source": [
    "class EdgeModel_ONE(torch.nn.Module):\n",
    "    def __init__(self):\n",
    "        super(EdgeModel_ONE, self).__init__()\n",
    "        self.edge_mlp = Seq(Lin(NO_EDGE_FEATURES_ONE, 32), ReLU(), Lin(32, NO_EDGE_FEATURES_ONE))\n",
    "\n",
    "    def forward(self, src, dest, edge_attr, u, batch):\n",
    "        # source, target: [E, F_x], where E is the number of edges.\n",
    "        # edge_attr: [E, F_e]\n",
    "        # u: [B, F_u], where B is the number of graphs.\n",
    "        # batch: [E] with max entry B - 1.\n",
    "        out = torch.cat([src, dest, edge_attr, u[batch]], 1)\n",
    "        return self.edge_mlp(out)\n",
    "\n",
    "class NodeModel_ONE(torch.nn.Module):\n",
    "    def __init__(self):\n",
    "        super(NodeModel_ONE, self).__init__()\n",
    "        self.node_mlp_1 = Seq(Lin(NO_NODE_FEATURES_ONE, 32), ReLU(), Lin(32, 32))\n",
    "        self.node_mlp_2 = Seq(Lin(32, 32), ReLU(), Lin(32, NO_NODE_FEATURES_ONE))\n",
    "\n",
    "    def forward(self, x, edge_index, edge_attr, u, batch):\n",
    "        # x: [N, F_x], where N is the number of nodes.\n",
    "        # edge_index: [2, E] with max entry N - 1.\n",
    "        # edge_attr: [E, F_e]\n",
    "        # u: [B, F_u]\n",
    "        # batch: [N] with max entry B - 1.\n",
    "        row, col = edge_index\n",
    "        out = torch.cat([x[row], edge_attr], dim=1)\n",
    "        out = self.node_mlp_1(out)\n",
    "        out = scatter_mean(out, col, dim=0, dim_size=x.size(0))\n",
    "        out = torch.cat([x, out, u[batch]], dim=1)\n",
    "        return self.node_mlp_2(out)\n",
    "\n",
    "class GlobalModel_ONE(torch.nn.Module):\n",
    "    def __init__(self):\n",
    "        super(GlobalModel_ONE, self).__init__()\n",
    "        self.global_mlp = Seq(Lin(NO_GRAPH_FEATURES_ONE, NO_GRAPH_FEATURES_ONE), ReLU(), Lin(NO_GRAPH_FEATURES_ONE, NO_GRAPH_FEATURES_ONE))\n",
    "\n",
    "    def forward(self, x, edge_index, edge_attr, u, batch):\n",
    "        # x: [N, F_x], where N is the number of nodes.\n",
    "        # edge_index: [2, E] with max entry N - 1.\n",
    "        # edge_attr: [E, F_e]\n",
    "        # u: [B, F_u]\n",
    "        # batch: [N] with max entry B - 1.\n",
    "        out = torch.cat([u, scatter_mean(x, batch, dim=0)], dim=1)\n",
    "        return self.global_mlp(out)"
   ]
  },
  {
   "cell_type": "code",
   "execution_count": 62,
   "metadata": {},
   "outputs": [
    {
     "data": {
      "text/plain": [
       "tensor([[0., 0., 0.],\n",
       "        [0., 0., 0.]])"
      ]
     },
     "execution_count": 62,
     "metadata": {},
     "output_type": "execute_result"
    }
   ],
   "source": [
    "torch.zeros((2,3))"
   ]
  },
  {
   "cell_type": "markdown",
   "metadata": {},
   "source": [
    "src=torch.zeros((100,7))\n",
    "dest=torch.zeros((100,7))\n",
    "edge_attr=torch.size((100,6))\n",
    "u=torch.zeros((1,64))\n",
    "torch.cat([src,dest],1)"
   ]
  },
  {
   "cell_type": "code",
   "execution_count": 82,
   "metadata": {},
   "outputs": [
    {
     "ename": "RuntimeError",
     "evalue": "Sizes of tensors must match except in dimension 1. Got 100 and 1 in dimension 0 (The offending index is 3)",
     "output_type": "error",
     "traceback": [
      "\u001b[1;31m---------------------------------------------------------------------------\u001b[0m",
      "\u001b[1;31mRuntimeError\u001b[0m                              Traceback (most recent call last)",
      "\u001b[1;32m<ipython-input-82-81cef319cff6>\u001b[0m in \u001b[0;36m<module>\u001b[1;34m\u001b[0m\n\u001b[0;32m      3\u001b[0m \u001b[0medge_attr\u001b[0m\u001b[1;33m=\u001b[0m\u001b[0mtorch\u001b[0m\u001b[1;33m.\u001b[0m\u001b[0mzeros\u001b[0m\u001b[1;33m(\u001b[0m\u001b[1;33m(\u001b[0m\u001b[1;36m100\u001b[0m\u001b[1;33m,\u001b[0m\u001b[1;36m6\u001b[0m\u001b[1;33m)\u001b[0m\u001b[1;33m)\u001b[0m\u001b[1;33m\u001b[0m\u001b[1;33m\u001b[0m\u001b[0m\n\u001b[0;32m      4\u001b[0m \u001b[0mu\u001b[0m\u001b[1;33m=\u001b[0m\u001b[0mtorch\u001b[0m\u001b[1;33m.\u001b[0m\u001b[0mzeros\u001b[0m\u001b[1;33m(\u001b[0m\u001b[1;33m(\u001b[0m\u001b[1;36m1\u001b[0m\u001b[1;33m,\u001b[0m\u001b[1;36m64\u001b[0m\u001b[1;33m)\u001b[0m\u001b[1;33m)\u001b[0m\u001b[1;33m\u001b[0m\u001b[1;33m\u001b[0m\u001b[0m\n\u001b[1;32m----> 5\u001b[1;33m \u001b[0mtorch\u001b[0m\u001b[1;33m.\u001b[0m\u001b[0mcat\u001b[0m\u001b[1;33m(\u001b[0m\u001b[1;33m[\u001b[0m\u001b[0msrc\u001b[0m\u001b[1;33m,\u001b[0m\u001b[0mdest\u001b[0m\u001b[1;33m,\u001b[0m\u001b[0medge_attr\u001b[0m\u001b[1;33m,\u001b[0m\u001b[0mu\u001b[0m\u001b[1;33m]\u001b[0m\u001b[1;33m,\u001b[0m\u001b[1;36m1\u001b[0m\u001b[1;33m)\u001b[0m\u001b[1;33m\u001b[0m\u001b[1;33m\u001b[0m\u001b[0m\n\u001b[0m",
      "\u001b[1;31mRuntimeError\u001b[0m: Sizes of tensors must match except in dimension 1. Got 100 and 1 in dimension 0 (The offending index is 3)"
     ]
    }
   ],
   "source": [
    "src=torch.zeros((100,7))\n",
    "dest=torch.zeros((100,7))\n",
    "edge_attr=torch.zeros((100,6))\n",
    "u=torch.zeros((1,64))\n",
    "torch.cat([src,dest,edge_attr,u],1)"
   ]
  },
  {
   "cell_type": "code",
   "execution_count": 100,
   "metadata": {},
   "outputs": [
    {
     "data": {
      "text/plain": [
       "torch.Size([2, 3])"
      ]
     },
     "execution_count": 100,
     "metadata": {},
     "output_type": "execute_result"
    }
   ],
   "source": [
    "u=torch.rand((2,3))\n",
    "u.shape"
   ]
  },
  {
   "cell_type": "code",
   "execution_count": 101,
   "metadata": {},
   "outputs": [
    {
     "data": {
      "text/plain": [
       "tensor([[0.0727, 0.5440, 0.2156],\n",
       "        [0.1708, 0.7517, 0.0349]])"
      ]
     },
     "execution_count": 101,
     "metadata": {},
     "output_type": "execute_result"
    }
   ],
   "source": [
    "u"
   ]
  },
  {
   "cell_type": "code",
   "execution_count": 103,
   "metadata": {},
   "outputs": [
    {
     "data": {
      "text/plain": [
       "tensor([[1.0000, 0.5440, 0.2156],\n",
       "        [2.0000, 0.7517, 0.0349]])"
      ]
     },
     "execution_count": 103,
     "metadata": {},
     "output_type": "execute_result"
    }
   ],
   "source": [
    "u[:,0]=torch.tensor([1,2])\n",
    "u"
   ]
  },
  {
   "cell_type": "code",
   "execution_count": 6,
   "metadata": {},
   "outputs": [
    {
     "data": {
      "text/html": [
       "<div>\n",
       "<style scoped>\n",
       "    .dataframe tbody tr th:only-of-type {\n",
       "        vertical-align: middle;\n",
       "    }\n",
       "\n",
       "    .dataframe tbody tr th {\n",
       "        vertical-align: top;\n",
       "    }\n",
       "\n",
       "    .dataframe thead th {\n",
       "        text-align: right;\n",
       "    }\n",
       "</style>\n",
       "<table border=\"1\" class=\"dataframe\">\n",
       "  <thead>\n",
       "    <tr style=\"text-align: right;\">\n",
       "      <th></th>\n",
       "      <th>A</th>\n",
       "      <th>B</th>\n",
       "    </tr>\n",
       "  </thead>\n",
       "  <tbody>\n",
       "    <tr>\n",
       "      <th>0</th>\n",
       "      <td>0</td>\n",
       "      <td>10</td>\n",
       "    </tr>\n",
       "    <tr>\n",
       "      <th>1</th>\n",
       "      <td>1</td>\n",
       "      <td>11</td>\n",
       "    </tr>\n",
       "    <tr>\n",
       "      <th>2</th>\n",
       "      <td>2</td>\n",
       "      <td>12</td>\n",
       "    </tr>\n",
       "    <tr>\n",
       "      <th>3</th>\n",
       "      <td>3</td>\n",
       "      <td>13</td>\n",
       "    </tr>\n",
       "    <tr>\n",
       "      <th>4</th>\n",
       "      <td>4</td>\n",
       "      <td>14</td>\n",
       "    </tr>\n",
       "    <tr>\n",
       "      <th>5</th>\n",
       "      <td>5</td>\n",
       "      <td>15</td>\n",
       "    </tr>\n",
       "    <tr>\n",
       "      <th>6</th>\n",
       "      <td>6</td>\n",
       "      <td>16</td>\n",
       "    </tr>\n",
       "    <tr>\n",
       "      <th>7</th>\n",
       "      <td>7</td>\n",
       "      <td>17</td>\n",
       "    </tr>\n",
       "    <tr>\n",
       "      <th>8</th>\n",
       "      <td>8</td>\n",
       "      <td>18</td>\n",
       "    </tr>\n",
       "    <tr>\n",
       "      <th>9</th>\n",
       "      <td>9</td>\n",
       "      <td>19</td>\n",
       "    </tr>\n",
       "  </tbody>\n",
       "</table>\n",
       "</div>"
      ],
      "text/plain": [
       "   A   B\n",
       "0  0  10\n",
       "1  1  11\n",
       "2  2  12\n",
       "3  3  13\n",
       "4  4  14\n",
       "5  5  15\n",
       "6  6  16\n",
       "7  7  17\n",
       "8  8  18\n",
       "9  9  19"
      ]
     },
     "execution_count": 6,
     "metadata": {},
     "output_type": "execute_result"
    }
   ],
   "source": [
    "a=list(range(10))\n",
    "b=list(range(10,20))\n",
    "df=pd.DataFrame(np.transpose([a,b]),columns=[\"A\",\"B\"])\n",
    "df"
   ]
  },
  {
   "cell_type": "code",
   "execution_count": 10,
   "metadata": {},
   "outputs": [
    {
     "data": {
      "text/html": [
       "<div>\n",
       "<style scoped>\n",
       "    .dataframe tbody tr th:only-of-type {\n",
       "        vertical-align: middle;\n",
       "    }\n",
       "\n",
       "    .dataframe tbody tr th {\n",
       "        vertical-align: top;\n",
       "    }\n",
       "\n",
       "    .dataframe thead th {\n",
       "        text-align: right;\n",
       "    }\n",
       "</style>\n",
       "<table border=\"1\" class=\"dataframe\">\n",
       "  <thead>\n",
       "    <tr style=\"text-align: right;\">\n",
       "      <th></th>\n",
       "      <th>species</th>\n",
       "      <th>island</th>\n",
       "      <th>bill_length_mm</th>\n",
       "      <th>bill_depth_mm</th>\n",
       "      <th>flipper_length_mm</th>\n",
       "      <th>body_mass_g</th>\n",
       "      <th>sex</th>\n",
       "    </tr>\n",
       "  </thead>\n",
       "  <tbody>\n",
       "    <tr>\n",
       "      <th>0</th>\n",
       "      <td>Adelie</td>\n",
       "      <td>Torgersen</td>\n",
       "      <td>39.1</td>\n",
       "      <td>18.7</td>\n",
       "      <td>181.0</td>\n",
       "      <td>3750.0</td>\n",
       "      <td>Male</td>\n",
       "    </tr>\n",
       "    <tr>\n",
       "      <th>1</th>\n",
       "      <td>Adelie</td>\n",
       "      <td>Torgersen</td>\n",
       "      <td>39.5</td>\n",
       "      <td>17.4</td>\n",
       "      <td>186.0</td>\n",
       "      <td>3800.0</td>\n",
       "      <td>Female</td>\n",
       "    </tr>\n",
       "    <tr>\n",
       "      <th>2</th>\n",
       "      <td>Adelie</td>\n",
       "      <td>Torgersen</td>\n",
       "      <td>40.3</td>\n",
       "      <td>18.0</td>\n",
       "      <td>195.0</td>\n",
       "      <td>3250.0</td>\n",
       "      <td>Female</td>\n",
       "    </tr>\n",
       "    <tr>\n",
       "      <th>3</th>\n",
       "      <td>Adelie</td>\n",
       "      <td>Torgersen</td>\n",
       "      <td>NaN</td>\n",
       "      <td>NaN</td>\n",
       "      <td>NaN</td>\n",
       "      <td>NaN</td>\n",
       "      <td>NaN</td>\n",
       "    </tr>\n",
       "    <tr>\n",
       "      <th>4</th>\n",
       "      <td>Adelie</td>\n",
       "      <td>Torgersen</td>\n",
       "      <td>36.7</td>\n",
       "      <td>19.3</td>\n",
       "      <td>193.0</td>\n",
       "      <td>3450.0</td>\n",
       "      <td>Female</td>\n",
       "    </tr>\n",
       "    <tr>\n",
       "      <th>...</th>\n",
       "      <td>...</td>\n",
       "      <td>...</td>\n",
       "      <td>...</td>\n",
       "      <td>...</td>\n",
       "      <td>...</td>\n",
       "      <td>...</td>\n",
       "      <td>...</td>\n",
       "    </tr>\n",
       "    <tr>\n",
       "      <th>339</th>\n",
       "      <td>Gentoo</td>\n",
       "      <td>Biscoe</td>\n",
       "      <td>NaN</td>\n",
       "      <td>NaN</td>\n",
       "      <td>NaN</td>\n",
       "      <td>NaN</td>\n",
       "      <td>NaN</td>\n",
       "    </tr>\n",
       "    <tr>\n",
       "      <th>340</th>\n",
       "      <td>Gentoo</td>\n",
       "      <td>Biscoe</td>\n",
       "      <td>46.8</td>\n",
       "      <td>14.3</td>\n",
       "      <td>215.0</td>\n",
       "      <td>4850.0</td>\n",
       "      <td>Female</td>\n",
       "    </tr>\n",
       "    <tr>\n",
       "      <th>341</th>\n",
       "      <td>Gentoo</td>\n",
       "      <td>Biscoe</td>\n",
       "      <td>50.4</td>\n",
       "      <td>15.7</td>\n",
       "      <td>222.0</td>\n",
       "      <td>5750.0</td>\n",
       "      <td>Male</td>\n",
       "    </tr>\n",
       "    <tr>\n",
       "      <th>342</th>\n",
       "      <td>Gentoo</td>\n",
       "      <td>Biscoe</td>\n",
       "      <td>45.2</td>\n",
       "      <td>14.8</td>\n",
       "      <td>212.0</td>\n",
       "      <td>5200.0</td>\n",
       "      <td>Female</td>\n",
       "    </tr>\n",
       "    <tr>\n",
       "      <th>343</th>\n",
       "      <td>Gentoo</td>\n",
       "      <td>Biscoe</td>\n",
       "      <td>49.9</td>\n",
       "      <td>16.1</td>\n",
       "      <td>213.0</td>\n",
       "      <td>5400.0</td>\n",
       "      <td>Male</td>\n",
       "    </tr>\n",
       "  </tbody>\n",
       "</table>\n",
       "<p>344 rows × 7 columns</p>\n",
       "</div>"
      ],
      "text/plain": [
       "    species     island  bill_length_mm  bill_depth_mm  flipper_length_mm  \\\n",
       "0    Adelie  Torgersen            39.1           18.7              181.0   \n",
       "1    Adelie  Torgersen            39.5           17.4              186.0   \n",
       "2    Adelie  Torgersen            40.3           18.0              195.0   \n",
       "3    Adelie  Torgersen             NaN            NaN                NaN   \n",
       "4    Adelie  Torgersen            36.7           19.3              193.0   \n",
       "..      ...        ...             ...            ...                ...   \n",
       "339  Gentoo     Biscoe             NaN            NaN                NaN   \n",
       "340  Gentoo     Biscoe            46.8           14.3              215.0   \n",
       "341  Gentoo     Biscoe            50.4           15.7              222.0   \n",
       "342  Gentoo     Biscoe            45.2           14.8              212.0   \n",
       "343  Gentoo     Biscoe            49.9           16.1              213.0   \n",
       "\n",
       "     body_mass_g     sex  \n",
       "0         3750.0    Male  \n",
       "1         3800.0  Female  \n",
       "2         3250.0  Female  \n",
       "3            NaN     NaN  \n",
       "4         3450.0  Female  \n",
       "..           ...     ...  \n",
       "339          NaN     NaN  \n",
       "340       4850.0  Female  \n",
       "341       5750.0    Male  \n",
       "342       5200.0  Female  \n",
       "343       5400.0    Male  \n",
       "\n",
       "[344 rows x 7 columns]"
      ]
     },
     "execution_count": 10,
     "metadata": {},
     "output_type": "execute_result"
    }
   ],
   "source": [
    "d=sns.load_dataset(\"penguins\")\n",
    "d"
   ]
  },
  {
   "cell_type": "code",
   "execution_count": 16,
   "metadata": {},
   "outputs": [
    {
     "data": {
      "text/plain": [
       "Text(0.5, 1.0, 'Seaborn Default Legend Position')"
      ]
     },
     "execution_count": 16,
     "metadata": {},
     "output_type": "execute_result"
    },
    {
     "data": {
      "image/png": "[encoded data removed]",
      "text/plain": [
       "<Figure size 576x432 with 1 Axes>"
      ]
     },
     "metadata": {
      "needs_background": "light"
     },
     "output_type": "display_data"
    }
   ],
   "source": [
    "penguins_data=\"https://raw.githubusercontent.com/datavizpyr/data/master/palmer_penguin_species.tsv\"\n",
    "penguins_df = pd.read_csv(penguins_data, sep=\"\\t\")\n",
    "\n",
    "plt.figure(figsize=(8,6))\n",
    "sns.scatterplot(x=\"culmen_length_mm\", \n",
    "                y=\"culmen_depth_mm\", \n",
    "                hue=\"species\",\n",
    "                data=penguins_df)\n",
    "plt.xlabel(\"Culmen Length (mm)\")\n",
    "plt.ylabel(\"Culmen Depth (mm)\")\n",
    "plt.title(\"Seaborn Default Legend Position\")"
   ]
  },
  {
   "cell_type": "code",
   "execution_count": 17,
   "metadata": {},
   "outputs": [
    {
     "data": {
      "text/html": [
       "<div>\n",
       "<style scoped>\n",
       "    .dataframe tbody tr th:only-of-type {\n",
       "        vertical-align: middle;\n",
       "    }\n",
       "\n",
       "    .dataframe tbody tr th {\n",
       "        vertical-align: top;\n",
       "    }\n",
       "\n",
       "    .dataframe thead th {\n",
       "        text-align: right;\n",
       "    }\n",
       "</style>\n",
       "<table border=\"1\" class=\"dataframe\">\n",
       "  <thead>\n",
       "    <tr style=\"text-align: right;\">\n",
       "      <th></th>\n",
       "      <th>species</th>\n",
       "      <th>island</th>\n",
       "      <th>culmen_length_mm</th>\n",
       "      <th>culmen_depth_mm</th>\n",
       "      <th>flipper_length_mm</th>\n",
       "      <th>body_mass_g</th>\n",
       "      <th>sex</th>\n",
       "    </tr>\n",
       "  </thead>\n",
       "  <tbody>\n",
       "    <tr>\n",
       "      <th>0</th>\n",
       "      <td>Adelie</td>\n",
       "      <td>Torgersen</td>\n",
       "      <td>39.1</td>\n",
       "      <td>18.7</td>\n",
       "      <td>181.0</td>\n",
       "      <td>3750.0</td>\n",
       "      <td>MALE</td>\n",
       "    </tr>\n",
       "    <tr>\n",
       "      <th>1</th>\n",
       "      <td>Adelie</td>\n",
       "      <td>Torgersen</td>\n",
       "      <td>39.5</td>\n",
       "      <td>17.4</td>\n",
       "      <td>186.0</td>\n",
       "      <td>3800.0</td>\n",
       "      <td>FEMALE</td>\n",
       "    </tr>\n",
       "    <tr>\n",
       "      <th>2</th>\n",
       "      <td>Adelie</td>\n",
       "      <td>Torgersen</td>\n",
       "      <td>40.3</td>\n",
       "      <td>18.0</td>\n",
       "      <td>195.0</td>\n",
       "      <td>3250.0</td>\n",
       "      <td>FEMALE</td>\n",
       "    </tr>\n",
       "    <tr>\n",
       "      <th>3</th>\n",
       "      <td>Adelie</td>\n",
       "      <td>Torgersen</td>\n",
       "      <td>NaN</td>\n",
       "      <td>NaN</td>\n",
       "      <td>NaN</td>\n",
       "      <td>NaN</td>\n",
       "      <td>NaN</td>\n",
       "    </tr>\n",
       "    <tr>\n",
       "      <th>4</th>\n",
       "      <td>Adelie</td>\n",
       "      <td>Torgersen</td>\n",
       "      <td>36.7</td>\n",
       "      <td>19.3</td>\n",
       "      <td>193.0</td>\n",
       "      <td>3450.0</td>\n",
       "      <td>FEMALE</td>\n",
       "    </tr>\n",
       "    <tr>\n",
       "      <th>...</th>\n",
       "      <td>...</td>\n",
       "      <td>...</td>\n",
       "      <td>...</td>\n",
       "      <td>...</td>\n",
       "      <td>...</td>\n",
       "      <td>...</td>\n",
       "      <td>...</td>\n",
       "    </tr>\n",
       "    <tr>\n",
       "      <th>339</th>\n",
       "      <td>Chinstrap</td>\n",
       "      <td>Dream</td>\n",
       "      <td>55.8</td>\n",
       "      <td>19.8</td>\n",
       "      <td>207.0</td>\n",
       "      <td>4000.0</td>\n",
       "      <td>MALE</td>\n",
       "    </tr>\n",
       "    <tr>\n",
       "      <th>340</th>\n",
       "      <td>Chinstrap</td>\n",
       "      <td>Dream</td>\n",
       "      <td>43.5</td>\n",
       "      <td>18.1</td>\n",
       "      <td>202.0</td>\n",
       "      <td>3400.0</td>\n",
       "      <td>FEMALE</td>\n",
       "    </tr>\n",
       "    <tr>\n",
       "      <th>341</th>\n",
       "      <td>Chinstrap</td>\n",
       "      <td>Dream</td>\n",
       "      <td>49.6</td>\n",
       "      <td>18.2</td>\n",
       "      <td>193.0</td>\n",
       "      <td>3775.0</td>\n",
       "      <td>MALE</td>\n",
       "    </tr>\n",
       "    <tr>\n",
       "      <th>342</th>\n",
       "      <td>Chinstrap</td>\n",
       "      <td>Dream</td>\n",
       "      <td>50.8</td>\n",
       "      <td>19.0</td>\n",
       "      <td>210.0</td>\n",
       "      <td>4100.0</td>\n",
       "      <td>MALE</td>\n",
       "    </tr>\n",
       "    <tr>\n",
       "      <th>343</th>\n",
       "      <td>Chinstrap</td>\n",
       "      <td>Dream</td>\n",
       "      <td>50.2</td>\n",
       "      <td>18.7</td>\n",
       "      <td>198.0</td>\n",
       "      <td>3775.0</td>\n",
       "      <td>FEMALE</td>\n",
       "    </tr>\n",
       "  </tbody>\n",
       "</table>\n",
       "<p>344 rows × 7 columns</p>\n",
       "</div>"
      ],
      "text/plain": [
       "       species     island  culmen_length_mm  culmen_depth_mm  \\\n",
       "0       Adelie  Torgersen              39.1             18.7   \n",
       "1       Adelie  Torgersen              39.5             17.4   \n",
       "2       Adelie  Torgersen              40.3             18.0   \n",
       "3       Adelie  Torgersen               NaN              NaN   \n",
       "4       Adelie  Torgersen              36.7             19.3   \n",
       "..         ...        ...               ...              ...   \n",
       "339  Chinstrap      Dream              55.8             19.8   \n",
       "340  Chinstrap      Dream              43.5             18.1   \n",
       "341  Chinstrap      Dream              49.6             18.2   \n",
       "342  Chinstrap      Dream              50.8             19.0   \n",
       "343  Chinstrap      Dream              50.2             18.7   \n",
       "\n",
       "     flipper_length_mm  body_mass_g     sex  \n",
       "0                181.0       3750.0    MALE  \n",
       "1                186.0       3800.0  FEMALE  \n",
       "2                195.0       3250.0  FEMALE  \n",
       "3                  NaN          NaN     NaN  \n",
       "4                193.0       3450.0  FEMALE  \n",
       "..                 ...          ...     ...  \n",
       "339              207.0       4000.0    MALE  \n",
       "340              202.0       3400.0  FEMALE  \n",
       "341              193.0       3775.0    MALE  \n",
       "342              210.0       4100.0    MALE  \n",
       "343              198.0       3775.0  FEMALE  \n",
       "\n",
       "[344 rows x 7 columns]"
      ]
     },
     "execution_count": 17,
     "metadata": {},
     "output_type": "execute_result"
    }
   ],
   "source": [
    "penguins_df"
   ]
  },
  {
   "cell_type": "code",
   "execution_count": 37,
   "metadata": {},
   "outputs": [],
   "source": [
    "dataset = TUDataset(root='/tmp/ENZYMES', name='ENZYMES')"
   ]
  },
  {
   "cell_type": "code",
   "execution_count": 38,
   "metadata": {},
   "outputs": [
    {
     "data": {
      "text/plain": [
       "ENZYMES(600)"
      ]
     },
     "execution_count": 38,
     "metadata": {},
     "output_type": "execute_result"
    }
   ],
   "source": [
    "dataset"
   ]
  },
  {
   "cell_type": "code",
   "execution_count": 73,
   "metadata": {},
   "outputs": [
    {
     "data": {
      "text/plain": [
       "Batch(batch=[85], edge_index=[2, 362], x=[85, 3], y=[3])"
      ]
     },
     "execution_count": 73,
     "metadata": {},
     "output_type": "execute_result"
    }
   ],
   "source": [
    "loader=DataLoader(dataset,batch_size=3,shuffle=False)\n",
    "batch=next(iter(loader))\n",
    "batch"
   ]
  },
  {
   "cell_type": "code",
   "execution_count": 24,
   "metadata": {},
   "outputs": [
    {
     "data": {
      "text/plain": [
       "Data(edge_index=[2, 168], x=[37, 3], y=[1])"
      ]
     },
     "execution_count": 24,
     "metadata": {},
     "output_type": "execute_result"
    }
   ],
   "source": [
    "oned=dataset[0]\n",
    "oned"
   ]
  },
  {
   "cell_type": "code",
   "execution_count": 33,
   "metadata": {},
   "outputs": [
    {
     "data": {
      "text/plain": [
       "tensor([[1., 0., 0.],\n",
       "        [1., 0., 0.],\n",
       "        [1., 0., 0.],\n",
       "        [1., 0., 0.],\n",
       "        [1., 0., 0.],\n",
       "        [1., 0., 0.],\n",
       "        [1., 0., 0.],\n",
       "        [1., 0., 0.],\n",
       "        [1., 0., 0.],\n",
       "        [1., 0., 0.],\n",
       "        [1., 0., 0.],\n",
       "        [1., 0., 0.],\n",
       "        [1., 0., 0.],\n",
       "        [1., 0., 0.],\n",
       "        [1., 0., 0.],\n",
       "        [1., 0., 0.],\n",
       "        [1., 0., 0.],\n",
       "        [1., 0., 0.],\n",
       "        [1., 0., 0.],\n",
       "        [1., 0., 0.],\n",
       "        [1., 0., 0.],\n",
       "        [1., 0., 0.],\n",
       "        [1., 0., 0.],\n",
       "        [1., 0., 0.],\n",
       "        [0., 1., 0.],\n",
       "        [0., 1., 0.],\n",
       "        [0., 1., 0.],\n",
       "        [0., 1., 0.],\n",
       "        [0., 1., 0.],\n",
       "        [0., 1., 0.],\n",
       "        [0., 1., 0.],\n",
       "        [0., 1., 0.],\n",
       "        [0., 1., 0.],\n",
       "        [0., 1., 0.],\n",
       "        [0., 1., 0.],\n",
       "        [0., 1., 0.],\n",
       "        [0., 1., 0.],\n",
       "        [1., 0., 0.],\n",
       "        [1., 0., 0.],\n",
       "        [1., 0., 0.],\n",
       "        [1., 0., 0.],\n",
       "        [1., 0., 0.],\n",
       "        [1., 0., 0.],\n",
       "        [1., 0., 0.],\n",
       "        [1., 0., 0.],\n",
       "        [1., 0., 0.],\n",
       "        [1., 0., 0.],\n",
       "        [1., 0., 0.],\n",
       "        [1., 0., 0.],\n",
       "        [1., 0., 0.],\n",
       "        [1., 0., 0.],\n",
       "        [1., 0., 0.],\n",
       "        [0., 1., 0.],\n",
       "        [0., 1., 0.],\n",
       "        [0., 1., 0.],\n",
       "        [0., 1., 0.],\n",
       "        [0., 1., 0.],\n",
       "        [0., 1., 0.],\n",
       "        [0., 1., 0.],\n",
       "        [0., 1., 0.]])"
      ]
     },
     "execution_count": 33,
     "metadata": {},
     "output_type": "execute_result"
    }
   ],
   "source": [
    "ts=torch.cat([dataset[0].x,dataset[1].x],dim=0)\n",
    "ts"
   ]
  },
  {
   "cell_type": "code",
   "execution_count": 46,
   "metadata": {},
   "outputs": [
    {
     "data": {
      "text/plain": [
       "tensor([0.4770, 0.4770, 0.0000])"
      ]
     },
     "execution_count": 46,
     "metadata": {},
     "output_type": "execute_result"
    }
   ],
   "source": [
    "ts.mean(dim=0)\n",
    "ts.std(dim=0,unbiased=False)"
   ]
  },
  {
   "cell_type": "code",
   "execution_count": 40,
   "metadata": {},
   "outputs": [],
   "source": [
    "oned.edge_attr"
   ]
  },
  {
   "cell_type": "code",
   "execution_count": 47,
   "metadata": {},
   "outputs": [
    {
     "data": {
      "text/plain": [
       "tensor([[2.0790, 0.0000,    nan],\n",
       "        [2.0790, 0.0000,    nan],\n",
       "        [2.0790, 0.0000,    nan],\n",
       "        [2.0790, 0.0000,    nan],\n",
       "        [2.0790, 0.0000,    nan],\n",
       "        [2.0790, 0.0000,    nan],\n",
       "        [2.0790, 0.0000,    nan],\n",
       "        [2.0790, 0.0000,    nan],\n",
       "        [2.0790, 0.0000,    nan],\n",
       "        [2.0790, 0.0000,    nan],\n",
       "        [2.0790, 0.0000,    nan],\n",
       "        [2.0790, 0.0000,    nan],\n",
       "        [2.0790, 0.0000,    nan],\n",
       "        [2.0790, 0.0000,    nan],\n",
       "        [2.0790, 0.0000,    nan],\n",
       "        [2.0790, 0.0000,    nan],\n",
       "        [2.0790, 0.0000,    nan],\n",
       "        [2.0790, 0.0000,    nan],\n",
       "        [2.0790, 0.0000,    nan],\n",
       "        [2.0790, 0.0000,    nan],\n",
       "        [2.0790, 0.0000,    nan],\n",
       "        [2.0790, 0.0000,    nan],\n",
       "        [2.0790, 0.0000,    nan],\n",
       "        [2.0790, 0.0000,    nan],\n",
       "        [0.0000, 2.0790,    nan],\n",
       "        [0.0000, 2.0790,    nan],\n",
       "        [0.0000, 2.0790,    nan],\n",
       "        [0.0000, 2.0790,    nan],\n",
       "        [0.0000, 2.0790,    nan],\n",
       "        [0.0000, 2.0790,    nan],\n",
       "        [0.0000, 2.0790,    nan],\n",
       "        [0.0000, 2.0790,    nan],\n",
       "        [0.0000, 2.0790,    nan],\n",
       "        [0.0000, 2.0790,    nan],\n",
       "        [0.0000, 2.0790,    nan],\n",
       "        [0.0000, 2.0790,    nan],\n",
       "        [0.0000, 2.0790,    nan],\n",
       "        [2.0790, 0.0000,    nan],\n",
       "        [2.0790, 0.0000,    nan],\n",
       "        [2.0790, 0.0000,    nan],\n",
       "        [2.0790, 0.0000,    nan],\n",
       "        [2.0790, 0.0000,    nan],\n",
       "        [2.0790, 0.0000,    nan],\n",
       "        [2.0790, 0.0000,    nan],\n",
       "        [2.0790, 0.0000,    nan],\n",
       "        [2.0790, 0.0000,    nan],\n",
       "        [2.0790, 0.0000,    nan],\n",
       "        [2.0790, 0.0000,    nan],\n",
       "        [2.0790, 0.0000,    nan],\n",
       "        [2.0790, 0.0000,    nan],\n",
       "        [2.0790, 0.0000,    nan],\n",
       "        [2.0790, 0.0000,    nan],\n",
       "        [0.0000, 2.0790,    nan],\n",
       "        [0.0000, 2.0790,    nan],\n",
       "        [0.0000, 2.0790,    nan],\n",
       "        [0.0000, 2.0790,    nan],\n",
       "        [0.0000, 2.0790,    nan],\n",
       "        [0.0000, 2.0790,    nan],\n",
       "        [0.0000, 2.0790,    nan],\n",
       "        [0.0000, 2.0790,    nan]])"
      ]
     },
     "execution_count": 47,
     "metadata": {},
     "output_type": "execute_result"
    }
   ],
   "source": [
    "ts/ts.std(0)"
   ]
  },
  {
   "cell_type": "code",
   "execution_count": 74,
   "metadata": {},
   "outputs": [
    {
     "data": {
      "text/plain": [
       "tensor([[1., 2.]])"
      ]
     },
     "execution_count": 74,
     "metadata": {},
     "output_type": "execute_result"
    }
   ],
   "source": [
    "x=torch.randn(size=[5,7])\n",
    "x.new_full(size=x.size(),fill_value=7)\n",
    "\n",
    "ei=torch.stack([torch.arange(0,4),torch.flip(torch.arange(0,4),[0])],dim=0)\n",
    "ei\n",
    "\n",
    "ea=torch.randn(size=[4,6])\n",
    "ea.new_full(size=x.size(),fill_value=6)\n",
    "\n",
    "y=torch.zeros((1,2))\n",
    "y[0][0]=1\n",
    "y[0][1]=2\n",
    "y"
   ]
  },
  {
   "cell_type": "code",
   "execution_count": 75,
   "metadata": {},
   "outputs": [
    {
     "data": {
      "text/plain": [
       "tensor([[5, 6, 7, 8],\n",
       "        [8, 7, 6, 5]])"
      ]
     },
     "execution_count": 75,
     "metadata": {},
     "output_type": "execute_result"
    }
   ],
   "source": [
    "ei+x.size()[0]"
   ]
  },
  {
   "cell_type": "code",
   "execution_count": 76,
   "metadata": {},
   "outputs": [],
   "source": [
    "d=Data(x=x,edge_index=ei,edge_attr=ea,y=y)\n",
    "d2=Data(x=x,edge_index=ei+x.size()[0],edge_attr=ea,y=y)"
   ]
  },
  {
   "cell_type": "code",
   "execution_count": 77,
   "metadata": {},
   "outputs": [
    {
     "data": {
      "text/plain": [
       "tensor([0, 0, 0, 0, 0, 1, 1, 1, 1, 1, 1, 1])"
      ]
     },
     "execution_count": 77,
     "metadata": {},
     "output_type": "execute_result"
    }
   ],
   "source": [
    "btch=torch.cat([torch.zeros(x.size()[0],dtype=torch.long),torch.ones(x.size()[1],dtype=torch.long)])\n",
    "btch"
   ]
  },
  {
   "cell_type": "code",
   "execution_count": 81,
   "metadata": {},
   "outputs": [
    {
     "data": {
      "text/plain": [
       "Batch(batch=[12], edge_attr=[8, 6], edge_index=[2, 8], x=[10, 7], y=[2, 2])"
      ]
     },
     "execution_count": 81,
     "metadata": {},
     "output_type": "execute_result"
    }
   ],
   "source": [
    "B=Batch()\n",
    "B.edge_index=torch.cat([ei,ei+x.size()[0]],dim=1)\n",
    "B.x=torch.cat([x,x],dim=0)\n",
    "B.edge_attr=torch.cat([ea,ea],dim=0)\n",
    "B.y=torch.cat([y,y],dim=0)\n",
    "B.batch=btch\n",
    "B"
   ]
  },
  {
   "cell_type": "code",
   "execution_count": 83,
   "metadata": {},
   "outputs": [
    {
     "name": "stdout",
     "output_type": "stream",
     "text": [
      "0\n",
      "1\n",
      "2\n",
      "3\n",
      "4\n"
     ]
    }
   ],
   "source": [
    "def loader_test():\n",
    "    return [0,1,2,3,4]\n",
    "for i in loader_test():\n",
    "    print(i)"
   ]
  },
  {
   "cell_type": "code",
   "execution_count": 86,
   "metadata": {},
   "outputs": [
    {
     "data": {
      "text/plain": [
       "Data(edge_attr=[4, 6], edge_index=[2, 4], x=[5, 7], y=[1])"
      ]
     },
     "execution_count": 86,
     "metadata": {},
     "output_type": "execute_result"
    }
   ],
   "source": [
    "e=Data()\n",
    "e.x=d.x\n",
    "e.edge_index=d.edge_index\n",
    "e.edge_attr=d.edge_attr\n",
    "e.y=[5]\n",
    "e"
   ]
  },
  {
   "cell_type": "code",
   "execution_count": 87,
   "metadata": {},
   "outputs": [
    {
     "data": {
      "text/plain": [
       "tensor([[ 1.4974,  1.1253,  0.6411, -1.2844, -1.1643, -1.7456, -0.1569],\n",
       "        [-0.0181,  1.1248,  0.7763, -0.5560, -1.1673, -1.0458, -0.2164],\n",
       "        [-1.3071,  0.6247,  1.1911,  1.2733,  0.3477,  1.1514, -1.1583],\n",
       "        [-1.2489, -0.1789, -0.3955,  0.0543,  0.1921, -0.4422, -0.3426],\n",
       "        [ 0.1801,  0.2600, -0.6310, -1.4351,  0.5896,  1.5931, -1.1077]])"
      ]
     },
     "execution_count": 87,
     "metadata": {},
     "output_type": "execute_result"
    }
   ],
   "source": [
    "e.x"
   ]
  },
  {
   "cell_type": "code",
   "execution_count": 93,
   "metadata": {},
   "outputs": [
    {
     "data": {
      "text/plain": [
       "tensor([6, 6, 6, 6, 6, 7, 7, 7, 7, 7])"
      ]
     },
     "execution_count": 93,
     "metadata": {},
     "output_type": "execute_result"
    }
   ],
   "source": [
    "torch.cat([torch.full([5],6),torch.full([5],7)],dim=0)"
   ]
  },
  {
   "cell_type": "code",
   "execution_count": null,
   "metadata": {},
   "outputs": [],
   "source": []
  }
 ],
 "metadata": {
  "kernelspec": {
   "display_name": "Python 3",
   "language": "python",
   "name": "python3"
  },
  "language_info": {
   "codemirror_mode": {
    "name": "ipython",
    "version": 3
   },
   "file_extension": ".py",
   "mimetype": "text/x-python",
   "name": "python",
   "nbconvert_exporter": "python",
   "pygments_lexer": "ipython3",
   "version": "3.7.3"
  }
 },
 "nbformat": 4,
 "nbformat_minor": 4
}
